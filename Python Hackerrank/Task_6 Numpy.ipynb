{
 "cells": [
  {
   "cell_type": "markdown",
   "id": "d0f47659",
   "metadata": {},
   "source": [
    "# Numpy Arrays"
   ]
  },
  {
   "cell_type": "code",
   "execution_count": 1,
   "id": "a32679ee",
   "metadata": {},
   "outputs": [
    {
     "name": "stdout",
     "output_type": "stream",
     "text": [
      "'1','2', '3', '4', '-8', '-10'\n",
      "[-10.  -8.   4.   3.   2.   1.]\n"
     ]
    }
   ],
   "source": [
    "import numpy as np\n",
    "\n",
    "def arrays(arr):\n",
    "    x = np.array(arr, float)[::-1]\n",
    "    return x\n",
    "    \n",
    "arr = input().strip().split(' ')\n",
    "arr = ['1','2', '3', '4', '-8', '-10']\n",
    "result = arrays(arr)\n",
    "print(result)"
   ]
  },
  {
   "cell_type": "markdown",
   "id": "c8aa468d",
   "metadata": {},
   "source": [
    "# Numpy Reshape"
   ]
  },
  {
   "cell_type": "code",
   "execution_count": 3,
   "id": "fad25f8a",
   "metadata": {},
   "outputs": [
    {
     "name": "stdout",
     "output_type": "stream",
     "text": [
      "[[1 2 3]\n",
      " [4 5 6]\n",
      " [7 8 9]]\n"
     ]
    }
   ],
   "source": [
    "import numpy as np\n",
    "\n",
    "my_array = np.array([1,2,3,4,5,6,7,8,9])\n",
    "\n",
    "print(np.reshape(my_array,(3,3)))"
   ]
  },
  {
   "cell_type": "markdown",
   "id": "08f54eb5",
   "metadata": {},
   "source": [
    "# Numpy Concatenate"
   ]
  },
  {
   "cell_type": "code",
   "execution_count": 4,
   "id": "e997cfb3",
   "metadata": {},
   "outputs": [
    {
     "name": "stdout",
     "output_type": "stream",
     "text": [
      "4 3 2\n",
      "12\n",
      "12\n",
      "12\n",
      "12\n",
      "34\n",
      "34\n",
      "34\n",
      "[[12]\n",
      " [12]\n",
      " [12]\n",
      " [12]\n",
      " [34]\n",
      " [34]\n",
      " [34]]\n"
     ]
    }
   ],
   "source": [
    "import numpy as np\n",
    "\n",
    "N, M, P = map(int, input().split())\n",
    "\n",
    "array_N = np.array([input().split() for i in range(N)],int)\n",
    "array_M = np.array([input().split() for i in range(M)],int)\n",
    "\n",
    "print(np.concatenate((array_N,array_M), axis = 0))"
   ]
  },
  {
   "cell_type": "markdown",
   "id": "1c64e2e9",
   "metadata": {},
   "source": [
    "# Numpy Zeros and Ones"
   ]
  },
  {
   "cell_type": "code",
   "execution_count": 6,
   "id": "ec597ce0",
   "metadata": {},
   "outputs": [
    {
     "name": "stdout",
     "output_type": "stream",
     "text": [
      "3 3 3 \n",
      "[[[0 0 0]\n",
      "  [0 0 0]\n",
      "  [0 0 0]]\n",
      "\n",
      " [[0 0 0]\n",
      "  [0 0 0]\n",
      "  [0 0 0]]\n",
      "\n",
      " [[0 0 0]\n",
      "  [0 0 0]\n",
      "  [0 0 0]]]\n",
      "[[[1 1 1]\n",
      "  [1 1 1]\n",
      "  [1 1 1]]\n",
      "\n",
      " [[1 1 1]\n",
      "  [1 1 1]\n",
      "  [1 1 1]]\n",
      "\n",
      " [[1 1 1]\n",
      "  [1 1 1]\n",
      "  [1 1 1]]]\n"
     ]
    },
    {
     "name": "stderr",
     "output_type": "stream",
     "text": [
      "C:\\Users\\Deshmukh\\AppData\\Local\\Temp\\ipykernel_10460\\1661623171.py:5: DeprecationWarning: `np.int` is a deprecated alias for the builtin `int`. To silence this warning, use `int` by itself. Doing this will not modify any behavior and is safe. When replacing `np.int`, you may wish to use e.g. `np.int64` or `np.int32` to specify the precision. If you wish to review your current use, check the release note link for additional information.\n",
      "Deprecated in NumPy 1.20; for more details and guidance: https://numpy.org/devdocs/release/1.20.0-notes.html#deprecations\n",
      "  print(np.zeros(shape, dtype = np.int))\n",
      "C:\\Users\\Deshmukh\\AppData\\Local\\Temp\\ipykernel_10460\\1661623171.py:6: DeprecationWarning: `np.int` is a deprecated alias for the builtin `int`. To silence this warning, use `int` by itself. Doing this will not modify any behavior and is safe. When replacing `np.int`, you may wish to use e.g. `np.int64` or `np.int32` to specify the precision. If you wish to review your current use, check the release note link for additional information.\n",
      "Deprecated in NumPy 1.20; for more details and guidance: https://numpy.org/devdocs/release/1.20.0-notes.html#deprecations\n",
      "  print(np.ones(shape, dtype = np.int))\n"
     ]
    }
   ],
   "source": [
    "import numpy as np\n",
    "\n",
    "shape = list(map(int, input().split()))\n",
    "\n",
    "print(np.zeros(shape, dtype = np.int))\n",
    "print(np.ones(shape, dtype = np.int))"
   ]
  },
  {
   "cell_type": "markdown",
   "id": "90c8107d",
   "metadata": {},
   "source": [
    "# Numpy Eye and Identity"
   ]
  },
  {
   "cell_type": "code",
   "execution_count": 7,
   "id": "e65af8a5",
   "metadata": {},
   "outputs": [
    {
     "name": "stdout",
     "output_type": "stream",
     "text": [
      "3 3\n",
      "[[ 1.  0.  0.]\n",
      " [ 0.  1.  0.]\n",
      " [ 0.  0.  1.]]\n"
     ]
    }
   ],
   "source": [
    "import numpy as np\n",
    "\n",
    "np.set_printoptions(legacy = '1.13')\n",
    "\n",
    "N, M = map(int, input().split())\n",
    "\n",
    "print(np.eye(N, M))"
   ]
  },
  {
   "cell_type": "markdown",
   "id": "316a87dd",
   "metadata": {},
   "source": [
    "# Numpy Array Mathematics"
   ]
  },
  {
   "cell_type": "code",
   "execution_count": 8,
   "id": "64859cdb",
   "metadata": {},
   "outputs": [
    {
     "name": "stdout",
     "output_type": "stream",
     "text": [
      "1 4\n",
      "1 2 3 4\n",
      "5 6 7 8\n",
      "[[ 6  8 10 12]]\n",
      "[[-4 -4 -4 -4]]\n",
      "[[ 5 12 21 32]]\n",
      "[[0 0 0 0]]\n",
      "[[1 2 3 4]]\n",
      "[[    1    64  2187 65536]]\n"
     ]
    }
   ],
   "source": [
    "import numpy as np\n",
    "\n",
    "N, M = map(int, input().split())\n",
    "\n",
    "arr_N = np.array([list(map(int, input().split())) for n in range(N)])\n",
    "arr_M = np.array([list(map(int, input().split())) for n in range(N)])\n",
    "\n",
    "print(arr_N + arr_M)\n",
    "print(arr_N - arr_M)\n",
    "print(arr_N * arr_M)\n",
    "print(arr_N // arr_M)\n",
    "print(arr_N % arr_M)\n",
    "print(arr_N ** arr_M)"
   ]
  },
  {
   "cell_type": "markdown",
   "id": "87646608",
   "metadata": {},
   "source": [
    "# Numpy Floor, Ceil and Rint"
   ]
  },
  {
   "cell_type": "code",
   "execution_count": 10,
   "id": "1b52cb8e",
   "metadata": {},
   "outputs": [
    {
     "name": "stdout",
     "output_type": "stream",
     "text": [
      "1.1 2.2 3.3 4.4 5.5 6.6 7.7 8.8 9.9\n",
      "[ 1.  2.  3.  4.  5.  6.  7.  8.  9.]\n",
      "[  2.   3.   4.   5.   6.   7.   8.   9.  10.]\n",
      "[  1.   2.   3.   4.   6.   7.   8.   9.  10.]\n"
     ]
    }
   ],
   "source": [
    "import numpy as np\n",
    "\n",
    "np.set_printoptions(legacy='1.13')\n",
    "\n",
    "my_array = list(map(float, input().split()))\n",
    "\n",
    "print(np.floor(my_array))\n",
    "print(np.ceil(my_array))\n",
    "print(np.rint(my_array))"
   ]
  },
  {
   "cell_type": "markdown",
   "id": "0872a772",
   "metadata": {},
   "source": [
    "# Numpy Sum and Prod"
   ]
  },
  {
   "cell_type": "code",
   "execution_count": 11,
   "id": "f5312d06",
   "metadata": {},
   "outputs": [
    {
     "name": "stdout",
     "output_type": "stream",
     "text": [
      "2 2\n",
      "1 2\n",
      "3 4\n",
      "[4 6]\n",
      "24\n",
      "24\n"
     ]
    }
   ],
   "source": [
    "import numpy as np\n",
    "\n",
    "N,M = map(int, input().split())\n",
    "\n",
    "my_array = np.array([input().split() for i in range(N)],int)\n",
    "\n",
    "print(np.sum(my_array, axis = 0))\n",
    "x = np.sum(my_array, axis = 0)\n",
    "print(np.prod(my_array))\n",
    "print(np.prod((np.sum(my_array, axis = 0))))"
   ]
  },
  {
   "cell_type": "markdown",
   "id": "13045539",
   "metadata": {},
   "source": [
    "# Numpy Min and Max"
   ]
  },
  {
   "cell_type": "code",
   "execution_count": 13,
   "id": "3b4c8303",
   "metadata": {},
   "outputs": [
    {
     "name": "stdout",
     "output_type": "stream",
     "text": [
      "2 4\n",
      "2 5\n",
      "3 7\n",
      "[2 3]\n",
      "3\n",
      "3\n"
     ]
    }
   ],
   "source": [
    "import numpy as np\n",
    "\n",
    "N,M = map(int, input().split())\n",
    "\n",
    "my_array = np.array([input().split() for i in range(N)],int)\n",
    "\n",
    "\n",
    "print(np.min(my_array, axis = 1))\n",
    "x = np.min(my_array, axis = 1)\n",
    "print(np.max(x))\n",
    "print(np.max(np.min(my_array, axis = 1)))"
   ]
  },
  {
   "cell_type": "markdown",
   "id": "0c86e6f9",
   "metadata": {},
   "source": [
    "# Numpy Mean, Var, and Std"
   ]
  },
  {
   "cell_type": "code",
   "execution_count": 15,
   "id": "97fd1dd1",
   "metadata": {},
   "outputs": [
    {
     "name": "stdout",
     "output_type": "stream",
     "text": [
      "2 2\n",
      "1 2\n",
      "3 4\n",
      "[ 1.5  3.5]\n",
      "[ 1.  1.]\n",
      "1.11803398875\n"
     ]
    }
   ],
   "source": [
    "import numpy as np\n",
    "\n",
    "N,M = map(int, input().split())\n",
    "\n",
    "my_array = np.array([input().split() for i in range(N)],int)\n",
    "\n",
    "\n",
    "print(np.mean(my_array, axis = 1))\n",
    "print(np.var(my_array, axis = 0))\n",
    "x = np.std(my_array, axis = None)\n",
    "print(round(x, 11))"
   ]
  },
  {
   "cell_type": "markdown",
   "id": "68bb8887",
   "metadata": {},
   "source": [
    "# Numpy Dot and Cross"
   ]
  },
  {
   "cell_type": "code",
   "execution_count": 16,
   "id": "aeb74e41",
   "metadata": {},
   "outputs": [
    {
     "name": "stdout",
     "output_type": "stream",
     "text": [
      "2\n",
      "1 2 \n",
      "3 4\n",
      "1 2\n",
      "3 4\n",
      "[[ 7 10]\n",
      " [15 22]]\n"
     ]
    }
   ],
   "source": [
    "import numpy as np\n",
    "\n",
    "n = int(input())\n",
    "\n",
    "a = np.array([input().split() for i in range(n)],int)\n",
    "b = np.array([input().split() for i in range(n)],int)\n",
    "\n",
    "print(np.dot(a,b))"
   ]
  },
  {
   "cell_type": "markdown",
   "id": "5eaf1d4b",
   "metadata": {},
   "source": [
    "# Numpy Inner and Outer"
   ]
  },
  {
   "cell_type": "code",
   "execution_count": 17,
   "id": "c8c6fc6d",
   "metadata": {},
   "outputs": [
    {
     "name": "stdout",
     "output_type": "stream",
     "text": [
      "0 1\n",
      "2 4\n",
      "4\n",
      "[[0 0]\n",
      " [2 4]]\n"
     ]
    }
   ],
   "source": [
    "import numpy as np\n",
    "\n",
    "arr1 = list(map(int, input().split()))\n",
    "arr2 = list(map(int, input().split()))\n",
    "\n",
    "\n",
    "print(np.inner(arr1, arr2))\n",
    "print(np.outer(arr1, arr2))"
   ]
  },
  {
   "cell_type": "code",
   "execution_count": null,
   "id": "4c7c551a",
   "metadata": {},
   "outputs": [],
   "source": []
  }
 ],
 "metadata": {
  "kernelspec": {
   "display_name": "Python 3 (ipykernel)",
   "language": "python",
   "name": "python3"
  },
  "language_info": {
   "codemirror_mode": {
    "name": "ipython",
    "version": 3
   },
   "file_extension": ".py",
   "mimetype": "text/x-python",
   "name": "python",
   "nbconvert_exporter": "python",
   "pygments_lexer": "ipython3",
   "version": "3.9.12"
  }
 },
 "nbformat": 4,
 "nbformat_minor": 5
}
