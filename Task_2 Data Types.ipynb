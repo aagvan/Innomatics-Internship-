{
 "cells": [
  {
   "cell_type": "markdown",
   "id": "a52d18be",
   "metadata": {},
   "source": [
    "# List Comprehensions"
   ]
  },
  {
   "cell_type": "code",
   "execution_count": 5,
   "id": "76b46ad0",
   "metadata": {},
   "outputs": [
    {
     "data": {
      "text/plain": [
       "[0, 1]"
      ]
     },
     "execution_count": 5,
     "metadata": {},
     "output_type": "execute_result"
    }
   ],
   "source": [
    "x = 1\n",
    "n = 3\n",
    "\n",
    "[i for i in range(x+1) if i != n]"
   ]
  },
  {
   "cell_type": "code",
   "execution_count": 6,
   "id": "f44a1598",
   "metadata": {},
   "outputs": [
    {
     "data": {
      "text/plain": [
       "[0, 1]"
      ]
     },
     "execution_count": 6,
     "metadata": {},
     "output_type": "execute_result"
    }
   ],
   "source": [
    "y = 1\n",
    "\n",
    "[j for j in range(x+1) if j != n]"
   ]
  },
  {
   "cell_type": "code",
   "execution_count": 7,
   "id": "a0a8891e",
   "metadata": {},
   "outputs": [
    {
     "data": {
      "text/plain": [
       "[0, 1, 2]"
      ]
     },
     "execution_count": 7,
     "metadata": {},
     "output_type": "execute_result"
    }
   ],
   "source": [
    "z = 2\n",
    "\n",
    "[k for k in range(z+1) if k != n]"
   ]
  },
  {
   "cell_type": "code",
   "execution_count": 8,
   "id": "ca576983",
   "metadata": {},
   "outputs": [
    {
     "name": "stdout",
     "output_type": "stream",
     "text": [
      "Enter a value: 1\n",
      "Enter a value: 1\n",
      "Enter a value: 2\n",
      "Enter a value: 3\n",
      "[[0, 0, 0], [0, 0, 1], [0, 0, 2], [0, 1, 0], [0, 1, 1], [1, 0, 0], [1, 0, 1], [1, 1, 0], [1, 1, 2]]\n"
     ]
    }
   ],
   "source": [
    "x = int(input('Enter a value: '))\n",
    "y = int(input('Enter a value: '))\n",
    "z = int(input('Enter a value: '))\n",
    "n = int(input('Enter a value: '))\n",
    "    \n",
    "output = [[i, j, k] for i in range(x+1) for j in range (y+1) for k in range(z+1) if i+j+k != n]\n",
    "    \n",
    "print(output)"
   ]
  },
  {
   "cell_type": "markdown",
   "id": "f7d4fe3b",
   "metadata": {},
   "source": [
    "# Find the Runner-Up Score!"
   ]
  },
  {
   "cell_type": "code",
   "execution_count": 23,
   "id": "aba58f46",
   "metadata": {},
   "outputs": [
    {
     "name": "stdout",
     "output_type": "stream",
     "text": [
      "[2, 3, 5, 6]\n",
      "5\n"
     ]
    }
   ],
   "source": [
    "n = 5\n",
    "\n",
    "arr = [2, 3, 6, 6, 5]\n",
    "\n",
    "arr1 = sorted(set(arr))\n",
    "print(x)\n",
    "print(x[-2])"
   ]
  },
  {
   "cell_type": "code",
   "execution_count": 27,
   "id": "1fb94bb3",
   "metadata": {},
   "outputs": [
    {
     "name": "stdout",
     "output_type": "stream",
     "text": [
      "5\n",
      "\n"
     ]
    }
   ],
   "source": [
    "n = int(input())\n",
    "arr = map(int, input().split())\n",
    "arr1 = sorted(set(arr))\n",
    "\n",
    "for i in arr1:\n",
    "    if i == arr1[-2]:\n",
    "        print(i)"
   ]
  },
  {
   "cell_type": "markdown",
   "id": "4e3323a2",
   "metadata": {},
   "source": [
    "# Finding the percentage"
   ]
  },
  {
   "cell_type": "code",
   "execution_count": 55,
   "id": "9fd64518",
   "metadata": {},
   "outputs": [
    {
     "name": "stdout",
     "output_type": "stream",
     "text": [
      "mallika\n",
      "[52, 56, 60]\n",
      "56.0\n"
     ]
    }
   ],
   "source": [
    "mark = {'mallika' : [52,56,60]}\n",
    "\n",
    "for i in mark:\n",
    "    print(i)\n",
    "    print(mark[i])\n",
    "    print(sum(mark[i])/len(mark[i]))"
   ]
  },
  {
   "cell_type": "code",
   "execution_count": null,
   "id": "0eeb9b11",
   "metadata": {},
   "outputs": [],
   "source": [
    "n = int(input())\n",
    "student_marks = {}\n",
    "for _ in range(n):\n",
    "    name, *line = input().split()\n",
    "    scores = list(map(float, line))\n",
    "    student_marks[name] = scores\n",
    "query_name = input()\n",
    "query_score=student_marks[query_name]\n",
    "avg =(sum(query_score)/len(query_score))\n",
    "print(\"{0:.2f}\".format(avg))"
   ]
  },
  {
   "cell_type": "markdown",
   "id": "c4b81cb8",
   "metadata": {},
   "source": [
    "# Lists"
   ]
  },
  {
   "cell_type": "code",
   "execution_count": 63,
   "id": "8f721406",
   "metadata": {},
   "outputs": [
    {
     "name": "stdout",
     "output_type": "stream",
     "text": [
      "[5]\n",
      "[5, 10]\n",
      "[6, 5, 10]\n",
      "[5, 10]\n",
      "[5, 10, 9]\n",
      "[5, 10, 9, 1]\n",
      "[1, 5, 9, 10]\n",
      "[1, 5, 9]\n",
      "[9, 5, 1]\n"
     ]
    }
   ],
   "source": [
    "arr = []\n",
    "    \n",
    "# insert(index, value)\n",
    "arr.insert(0,5)\n",
    "print(arr)\n",
    "arr.insert(1, 10)\n",
    "print(arr)\n",
    "arr.insert(0, 6)\n",
    "print(arr)\n",
    "\n",
    "#remove(value)\n",
    "#append(by default value added at last index)\n",
    "arr.remove(6)\n",
    "print(arr)\n",
    "arr.append(9)\n",
    "print(arr)\n",
    "arr.append(1)\n",
    "print(arr)\n",
    "arr.sort()\n",
    "print(arr)\n",
    "\n",
    "#pop(delete value at last index)\n",
    "arr.pop()\n",
    "print(arr)\n",
    "arr.reverse()\n",
    "print(arr)"
   ]
  },
  {
   "cell_type": "markdown",
   "id": "711f0eba",
   "metadata": {},
   "source": [
    "# Tuples"
   ]
  },
  {
   "cell_type": "code",
   "execution_count": 65,
   "id": "b2abd3b9",
   "metadata": {},
   "outputs": [
    {
     "data": {
      "text/plain": [
       "(1, 2)"
      ]
     },
     "execution_count": 65,
     "metadata": {},
     "output_type": "execute_result"
    }
   ],
   "source": [
    "tuple(integer_list)"
   ]
  },
  {
   "cell_type": "code",
   "execution_count": 66,
   "id": "74064314",
   "metadata": {},
   "outputs": [
    {
     "data": {
      "text/plain": [
       "-3550055125485641917"
      ]
     },
     "execution_count": 66,
     "metadata": {},
     "output_type": "execute_result"
    }
   ],
   "source": [
    "hash(tuple(integer_list))"
   ]
  },
  {
   "cell_type": "code",
   "execution_count": null,
   "id": "25d72def",
   "metadata": {},
   "outputs": [],
   "source": []
  },
  {
   "cell_type": "code",
   "execution_count": 70,
   "id": "65fb9587",
   "metadata": {},
   "outputs": [
    {
     "name": "stdout",
     "output_type": "stream",
     "text": [
      "Enter a number: 2\n",
      "1 2\n",
      "-3550055125485641917\n"
     ]
    }
   ],
   "source": [
    "n = int(input('Enter a number: '))\n",
    "integer_list = map(int, input().split())\n",
    "    \n",
    "print(hash(tuple(integer_list)))"
   ]
  },
  {
   "cell_type": "markdown",
   "id": "f324cd09",
   "metadata": {},
   "source": [
    "# Introduction to Sets"
   ]
  },
  {
   "cell_type": "code",
   "execution_count": 71,
   "id": "d547c50b",
   "metadata": {},
   "outputs": [
    {
     "name": "stdout",
     "output_type": "stream",
     "text": [
      "10\n",
      "161 182 161 154 176 170 167 171 170 174\n",
      "169.375\n"
     ]
    }
   ],
   "source": [
    "def average(array):\n",
    "    \n",
    "    array = set(array)\n",
    "    \n",
    "    avg = (sum(array))/(len(array))\n",
    "    \n",
    "    return avg\n",
    "    \n",
    "n = int(input())\n",
    "arr = list(map(int, input().split()))\n",
    "result = average(arr)\n",
    "print(result)"
   ]
  },
  {
   "cell_type": "markdown",
   "id": "bf76cc72",
   "metadata": {},
   "source": [
    "# No Idea!"
   ]
  },
  {
   "cell_type": "code",
   "execution_count": 79,
   "id": "0a4d9ed1",
   "metadata": {},
   "outputs": [
    {
     "name": "stdout",
     "output_type": "stream",
     "text": [
      "1\n",
      "5\n",
      "3\n",
      "1\n"
     ]
    }
   ],
   "source": [
    "arr = [1,5,3]\n",
    "\n",
    "A = {3,1}\n",
    "B = {5,7}\n",
    "\n",
    "counter = 0\n",
    "\n",
    "for i in arr:\n",
    "    print(i)\n",
    "    if i in A:\n",
    "        counter += 1\n",
    "    elif i in B:\n",
    "        counter -= 1\n",
    "        \n",
    "print(counter)"
   ]
  },
  {
   "cell_type": "code",
   "execution_count": 72,
   "id": "becf0b82",
   "metadata": {},
   "outputs": [
    {
     "name": "stdout",
     "output_type": "stream",
     "text": [
      "3 2\n",
      "1 5 3\n",
      "3 1\n",
      "5 7\n",
      "1\n"
     ]
    }
   ],
   "source": [
    "n,m = map(int, input().split())\n",
    "\n",
    "arr = list(map(int, input().split()))\n",
    "\n",
    "A = set(map(int, input().split()))\n",
    "B = set(map(int, input().split()))\n",
    "\n",
    "counter = 0\n",
    "\n",
    "for i in arr:\n",
    "    if i in A:\n",
    "        counter += 1\n",
    "    elif i in B:\n",
    "        counter -= 1\n",
    "        \n",
    "print(counter)"
   ]
  },
  {
   "cell_type": "markdown",
   "id": "4be6ef00",
   "metadata": {},
   "source": [
    "# Symmetric Difference"
   ]
  },
  {
   "cell_type": "code",
   "execution_count": 81,
   "id": "cd4910ac",
   "metadata": {},
   "outputs": [
    {
     "name": "stdout",
     "output_type": "stream",
     "text": [
      "{9, 5}\n",
      "{11, 12}\n",
      "{9, 11, 12, 5}\n",
      "5\n",
      "9\n",
      "11\n",
      "12\n"
     ]
    }
   ],
   "source": [
    "a = {2, 4, 5, 9}\n",
    "\n",
    "b = {2, 4, 11, 12}\n",
    "\n",
    "x = a.difference(b)\n",
    "print(x)\n",
    "y = b.difference(a)\n",
    "print(y)\n",
    "z = x.union(y)\n",
    "print(z)\n",
    "\n",
    "for i in sorted(z):\n",
    "    print(i)"
   ]
  },
  {
   "cell_type": "code",
   "execution_count": null,
   "id": "0ddb340b",
   "metadata": {},
   "outputs": [],
   "source": [
    "M = int(input())\n",
    "\n",
    "a = map(int, input().split())\n",
    "\n",
    "N = int(input())\n",
    "\n",
    "b = map(int, input().split())\n",
    "\n",
    "A = set(a)\n",
    "B = set(b)\n",
    "\n",
    "x = A.difference(B)\n",
    "y = B.difference(A)\n",
    "z = x.union(y)\n",
    "\n",
    "for i in sorted(z):\n",
    "    print(i)"
   ]
  },
  {
   "cell_type": "markdown",
   "id": "6fefc00a",
   "metadata": {},
   "source": [
    "# Set .add()"
   ]
  },
  {
   "cell_type": "code",
   "execution_count": 89,
   "id": "b34dbae0",
   "metadata": {},
   "outputs": [
    {
     "name": "stdout",
     "output_type": "stream",
     "text": [
      "5\n"
     ]
    }
   ],
   "source": [
    "a = ('UK', 'China','USA', 'France', 'New Zealand', 'UK', 'France')\n",
    "Country = set(a)\n",
    "print(len(Country))"
   ]
  },
  {
   "cell_type": "code",
   "execution_count": null,
   "id": "dadeba56",
   "metadata": {},
   "outputs": [],
   "source": [
    "N = 7\n",
    "Country = set()\n",
    "\n",
    "for i in range(1,N+1):\n",
    "    a = ('UK', 'China','USA', 'France', 'New Zealand', 'UK', 'France')\n",
    "    Country.add(a)\n",
    "    \n",
    "print(len(Country))"
   ]
  },
  {
   "cell_type": "markdown",
   "id": "59510c49",
   "metadata": {},
   "source": [
    "# Set .discard(), .remove() & .pop()"
   ]
  },
  {
   "cell_type": "code",
   "execution_count": null,
   "id": "76d4b9a8",
   "metadata": {},
   "outputs": [],
   "source": [
    "n = int(input())\n",
    "s = set(map(int, input().split()))\n",
    "m = int(input())\n",
    "\n",
    "for i in range(m):\n",
    "    \n",
    "    s1 = list(input().split())\n",
    "    \n",
    "    if s1[0] == 'pop':\n",
    "        s.pop()\n",
    "    elif s1[0] == 'remove':\n",
    "        s.remove(int(s1[1]))\n",
    "    elif s1[0] == 'discard':\n",
    "        s.discard(int(s1[1]))\n",
    "    \n",
    "print(sum(s))"
   ]
  },
  {
   "cell_type": "markdown",
   "id": "3684bb94",
   "metadata": {},
   "source": [
    "# Set .union() Operation"
   ]
  },
  {
   "cell_type": "code",
   "execution_count": null,
   "id": "fa0c4d9f",
   "metadata": {},
   "outputs": [],
   "source": [
    "n = int(input())\n",
    "a = set(map(int, input().split()))\n",
    "m = int(input())\n",
    "b = set(map(int, input().split()))\n",
    "\n",
    "x = a.union(b)\n",
    "\n",
    "print(len(x))"
   ]
  },
  {
   "cell_type": "markdown",
   "id": "82dc5c18",
   "metadata": {},
   "source": [
    "# Set .intersection() Operation"
   ]
  },
  {
   "cell_type": "code",
   "execution_count": null,
   "id": "978b6c02",
   "metadata": {},
   "outputs": [],
   "source": [
    "n = int(input())\n",
    "a = set(map(int, input(), split()))\n",
    "m = int(input())\n",
    "b = set(map(int, input(), split()))\n",
    "\n",
    "x = a.intersection(b)\n",
    "\n",
    "print(len(x))"
   ]
  },
  {
   "cell_type": "markdown",
   "id": "37073f76",
   "metadata": {},
   "source": [
    "# Set .difference() Operation"
   ]
  },
  {
   "cell_type": "code",
   "execution_count": null,
   "id": "6896c7ae",
   "metadata": {},
   "outputs": [],
   "source": [
    "n = int(input())\n",
    "a = set(map(int, input().split()))\n",
    "m = int(input())\n",
    "b = set(map(int, input().split()))\n",
    "\n",
    "x = a.difference(b)\n",
    "\n",
    "print(len(x))"
   ]
  },
  {
   "cell_type": "markdown",
   "id": "97f585cd",
   "metadata": {},
   "source": [
    "# Set .symmetric_difference() Operation"
   ]
  },
  {
   "cell_type": "code",
   "execution_count": null,
   "id": "e46dfa09",
   "metadata": {},
   "outputs": [],
   "source": [
    "n = int(input())\n",
    "a = set(map(int, input().split()))\n",
    "m = int(input())\n",
    "b = set(map(int, input().split()))\n",
    "\n",
    "x = a.symmetric_difference(b)\n",
    "\n",
    "print(len(x))"
   ]
  },
  {
   "cell_type": "markdown",
   "id": "2bf799f9",
   "metadata": {},
   "source": [
    "# Set Mutations"
   ]
  },
  {
   "cell_type": "code",
   "execution_count": null,
   "id": "bcb44982",
   "metadata": {},
   "outputs": [],
   "source": [
    "A = int(input())\n",
    "s = set(map(int, input().split()))\n",
    "N = int(input())\n",
    "\n",
    "for i in range(N):\n",
    "    \n",
    "    (p, q) = input().split()\n",
    "    \n",
    "    s1 = set(map(int, input().split()))\n",
    "    \n",
    "    if p == 'intersection_update':\n",
    "        s.intersection_update(s1)\n",
    "    elif p == 'update':\n",
    "        s.update(s1)\n",
    "    elif p == 'symmetric_difference_update':\n",
    "        s.symmetric_difference_update(s1)\n",
    "    elif p == 'difference_update':\n",
    "        s.difference_update(s1)\n",
    "\n",
    "print(sum(s))"
   ]
  },
  {
   "cell_type": "markdown",
   "id": "00039858",
   "metadata": {},
   "source": [
    "# The Captain's Room"
   ]
  },
  {
   "cell_type": "code",
   "execution_count": null,
   "id": "30a6101f",
   "metadata": {},
   "outputs": [],
   "source": [
    "K = int(input())\n",
    "\n",
    "list1 = list(map(int, input().split()))\n",
    "\n",
    "s1 = set()\n",
    "s2 = set()\n",
    "\n",
    "for i in list1:\n",
    "    if i in s1:\n",
    "        s2.add(i)\n",
    "    else:\n",
    "        s1.add(i)\n",
    "        \n",
    "s = s1.difference(s2)\n",
    "print(*s)"
   ]
  },
  {
   "cell_type": "markdown",
   "id": "33f49104",
   "metadata": {},
   "source": [
    "# Check Subset"
   ]
  },
  {
   "cell_type": "code",
   "execution_count": null,
   "id": "4d74d2a1",
   "metadata": {},
   "outputs": [],
   "source": [
    "for i in range(int(input())):\n",
    "    \n",
    "    x = int(input())\n",
    "    s1 = set(map(int, input().split()))\n",
    "    y = int(input())\n",
    "    s2 = set(map(int, input().split()))\n",
    "    if len(s1 - s2) == 0:\n",
    "        print(\"True\")\n",
    "    else:\n",
    "        print(\"False\")"
   ]
  },
  {
   "cell_type": "markdown",
   "id": "3ec84332",
   "metadata": {},
   "source": [
    "# Check Strict Superset"
   ]
  },
  {
   "cell_type": "code",
   "execution_count": null,
   "id": "371fa5f0",
   "metadata": {},
   "outputs": [],
   "source": [
    "a = set(map(int, input().split()))\n",
    "n = int(input())\n",
    "\n",
    "is_super_set = True\n",
    "\n",
    "for _ in range(n):\n",
    "        \n",
    "    b = set(map(int, input().split()))\n",
    "\n",
    "    if len(b.intersection(a)) != len(b):\n",
    "        is_super_set = False\n",
    "\n",
    "print(is_super_set)"
   ]
  },
  {
   "cell_type": "code",
   "execution_count": null,
   "id": "3f0cda14",
   "metadata": {},
   "outputs": [],
   "source": []
  },
  {
   "cell_type": "code",
   "execution_count": null,
   "id": "add81792",
   "metadata": {},
   "outputs": [],
   "source": []
  },
  {
   "cell_type": "code",
   "execution_count": null,
   "id": "f60563c8",
   "metadata": {},
   "outputs": [],
   "source": []
  }
 ],
 "metadata": {
  "kernelspec": {
   "display_name": "Python 3 (ipykernel)",
   "language": "python",
   "name": "python3"
  },
  "language_info": {
   "codemirror_mode": {
    "name": "ipython",
    "version": 3
   },
   "file_extension": ".py",
   "mimetype": "text/x-python",
   "name": "python",
   "nbconvert_exporter": "python",
   "pygments_lexer": "ipython3",
   "version": "3.9.12"
  }
 },
 "nbformat": 4,
 "nbformat_minor": 5
}
